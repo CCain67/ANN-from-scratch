{
 "cells": [
  {
   "cell_type": "markdown",
   "metadata": {},
   "source": [
    "# Neural Network from Scratch\n",
    "## Table of Contents\n",
    "> ### Introduction\n",
    "> ### 1. Helper Functions\n",
    "> ### 2. 2-Layer Network with Bias\n",
    "> ### 3. Mini Batches\n",
    "\n",
    "***"
   ]
  },
  {
   "cell_type": "markdown",
   "metadata": {},
   "source": [
    "## Introduction\n",
    "\n",
    "The goal of this notebook is to explore the problem of classifying handwritten digits using artificial neural networks (ANNs). The data set we will be using comes from The MNIST Database, which is a collection of 70,000 28 by 28 pixel images of handwritten digits. The 70,000 images are split into a set of 60,000 training images and 10,000 images to test various models on. \n",
    "\n",
    "We will build a two-layer neural network with sigmoid layers and bias from scratch. Neural networks can be very computationally intensive, so the last part of the notebook is devoted to improving the efficiency of the computations required to improve the network parameters (gradient descent).\n",
    "\n",
    "***"
   ]
  },
  {
   "cell_type": "markdown",
   "metadata": {},
   "source": [
    "## 1. Helper Functions"
   ]
  },
  {
   "cell_type": "code",
   "execution_count": 1,
   "metadata": {
    "ExecuteTime": {
     "end_time": "2018-11-20T17:32:49.144139Z",
     "start_time": "2018-11-20T17:32:48.659282Z"
    }
   },
   "outputs": [],
   "source": [
    "import glob\n",
    "import numpy as np\n",
    "import matplotlib.pyplot as plt\n",
    "\n",
    "from PIL import Image\n",
    "from mnist import MNIST"
   ]
  },
  {
   "cell_type": "code",
   "execution_count": 2,
   "metadata": {},
   "outputs": [
    {
     "name": "stdout",
     "output_type": "stream",
     "text": [
      "training images:  60000\n",
      "testing images:  10000\n"
     ]
    }
   ],
   "source": [
    "mnist=MNIST('mnist/')\n",
    "\n",
    "# import data\n",
    "train_images, train_labels = mnist.load_training()\n",
    "test_images, test_labels = mnist.load_testing()\n",
    "\n",
    "# rescale by dividing by the number of pixels in each image\n",
    "X_test = np.array(test_images).T/784\n",
    "y_test = np.array(test_labels)\n",
    "\n",
    "print('training images: ',len(train_images))\n",
    "print('testing images: ',len(test_images))"
   ]
  },
  {
   "cell_type": "markdown",
   "metadata": {},
   "source": [
    "Now, we'll define some helpful functions:"
   ]
  },
  {
   "cell_type": "code",
   "execution_count": 3,
   "metadata": {
    "ExecuteTime": {
     "end_time": "2018-11-20T17:32:56.971930Z",
     "start_time": "2018-11-20T17:32:56.969368Z"
    }
   },
   "outputs": [],
   "source": [
    "# prints handwritten digit\n",
    "def show_num(X,k):\n",
    "    plt.imshow(X[:,k].reshape((28,28)),cmap='Greys')\n",
    "    plt.xticks([])\n",
    "    plt.yticks([])"
   ]
  },
  {
   "cell_type": "code",
   "execution_count": 4,
   "metadata": {},
   "outputs": [
    {
     "data": {
      "image/png": "[encoded data removed]",
      "text/plain": [
       "<Figure size 432x288 with 1 Axes>"
      ]
     },
     "metadata": {},
     "output_type": "display_data"
    }
   ],
   "source": [
    "# for example:\n",
    "show_num(X_test,1)"
   ]
  },
  {
   "cell_type": "markdown",
   "metadata": {},
   "source": [
    "The following function gives us interesting information about the network. By plotting the rows of $W^T$ as images, we can see what the network is 'looking for' at each node.  "
   ]
  },
  {
   "cell_type": "code",
   "execution_count": 5,
   "metadata": {
    "ExecuteTime": {
     "end_time": "2018-11-20T16:23:36.702269Z",
     "start_time": "2018-11-20T16:23:36.689216Z"
    }
   },
   "outputs": [],
   "source": [
    "# displays the rows of WT as images\n",
    "def show_nodes(WT,bias):\n",
    "    k = WT.shape[0]\n",
    "    plt.figure(figsize=(36,7))\n",
    "    for j in range(k):\n",
    "        plt.subplot(1,k,j+1)\n",
    "        if bias=='Y':\n",
    "            plt.imshow(WT[:,:-1][j].reshape((28,28)),cmap='seismic')\n",
    "        else:\n",
    "            plt.imshow(WT[j].reshape((28,28)),cmap='seismic')\n",
    "        plt.xticks([])\n",
    "        plt.yticks([])"
   ]
  },
  {
   "cell_type": "markdown",
   "metadata": {},
   "source": [
    "## 2. 2-Layer Network with Bias\n",
    "\n",
    "Here is the set up: in the diagram below, a $\\large\\circ$ represents an artificial neuron.\n",
    "\\begin{equation}\n",
    "\\large\n",
    "\\underbrace{\\begin{array}{c}\\circ\\\\[-10pt]\\circ\\\\[-10pt]\\circ\\\\[-10pt]\\circ\\\\[-10pt]\\circ\\end{array}}_{\\text{Input Layer}}\n",
    "\\xrightarrow{\\ W^T \\ }\n",
    "\\underbrace{\\begin{array}{c}\\circ\\\\[-10pt]\\circ\\\\[-10pt]\\circ\\\\[-10pt]\\circ\\\\[-10pt]\\circ\\\\[-10pt]\\circ\\\\[-10pt]\\circ\\end{array}\n",
    "\\xrightarrow{\\sigma}\n",
    "\\begin{array}{c}\\circ\\\\[-10pt]\\circ\\\\[-10pt]\\circ\\\\[-10pt]\\circ\\\\[-10pt]\\circ\\\\[-10pt]\\circ\\\\[-10pt]\\circ\\end{array}}_{\\text{First Sigmoidal Layer}}\n",
    "\\xrightarrow{\\ V^T \\ }\n",
    "\\underbrace{\\begin{array}{c}\\circ\\\\[-10pt]\\circ\\\\[-10pt]\\circ\\\\[-10pt]\\circ\\\\[-10pt]\\circ\\\\[-10pt]\\circ\\end{array}\n",
    "\\xrightarrow{\\sigma}\n",
    "\\begin{array}{c}\\circ\\\\[-10pt]\\circ\\\\[-10pt]\\circ\\\\[-10pt]\\circ\\\\[-10pt]\\circ\\\\[-10pt]\\circ\\end{array}}_{\\text{Second Sigmoidal Layer}}\n",
    "\\end{equation}\n",
    "\n",
    "We feed in the images $X$ into the input layer and apply the transformation $W^T$ to take us into the first layer. We follow this with a coordinate-wise sigmoid function given by:\n",
    "$$\\sigma(x) = \\frac{1}{1+e^{-x}}.$$\n",
    "If we didn't apply this, then the composition $V^TW^T$ would just be another linear transformation, and we might as well only have one layer. We follow this through into the second layer via $V^T$ and apply the sigmoid again. From here, in order to compute the loss, we take the difference of the output with the one-hot encoded true classification. \n",
    "\n",
    "Our first order of business is to compute that gradient using back-propagation. For this, we will need the derivative of the sigmoid function, which is given by:\n",
    "$$\\frac{d}{dx}\\sigma(x) = \\frac{d}{dx}\\frac{1}{1+e^{-x}} = \\frac{e^{-x}}{(1+e^{-x})^2} = \\frac{1}{1+e^{-x}}\\cdot\\frac{e^{-x}}{1+e^{-x}} = \\sigma(x)\\cdot\\frac{1+e^{-x}-1}{1+e^{-x}} = \\sigma(x)(1-\\sigma(x)).$$ "
   ]
  },
  {
   "cell_type": "code",
   "execution_count": 6,
   "metadata": {
    "ExecuteTime": {
     "end_time": "2018-11-20T17:33:01.809707Z",
     "start_time": "2018-11-20T17:33:01.802470Z"
    }
   },
   "outputs": [
    {
     "data": {
      "text/plain": [
       "(0.5, 0.25)"
      ]
     },
     "execution_count": 6,
     "metadata": {},
     "output_type": "execute_result"
    }
   ],
   "source": [
    "def sigmoid(x):\n",
    "    return 1/(1+np.exp(-x))\n",
    "\n",
    "def Dsigmoid(x):\n",
    "    return sigmoid(x)*(1-sigmoid(x))\n",
    "\n",
    "sigmoid(0),Dsigmoid(0)"
   ]
  },
  {
   "cell_type": "markdown",
   "metadata": {},
   "source": [
    "Here is another sigmoid function which is commonly used that my office mate mentioned:"
   ]
  },
  {
   "cell_type": "code",
   "execution_count": 7,
   "metadata": {
    "ExecuteTime": {
     "end_time": "2018-11-20T17:33:06.507358Z",
     "start_time": "2018-11-20T17:33:06.503987Z"
    }
   },
   "outputs": [],
   "source": [
    "# for experimentation\n",
    "def ReLU(x):\n",
    "    return np.maximum(x,np.zeros_like(x))\n",
    "\n",
    "def DReLU(x):\n",
    "    return np.minimum(ReLU(x),np.ones_like(x))"
   ]
  },
  {
   "cell_type": "markdown",
   "metadata": {},
   "source": [
    "Now we need to discuss bias. Let $\\vec{x}$ be an input vector. Generally, bias is a vector $\\vec{b}$ that serves as a shift to the linear transformation $W^T\\vec{x}$, giving us instead an affine transformation $W^T\\vec{x}+\\vec{b}$ from an input $\\vec{x}$ into the next layer. Here, we will be slick and add the bias into the vectors $W^T$ and $V^T$, by attaching 'pseudo-pixels' to the input vectors:\n",
    "\\begin{equation}\n",
    "\\left(\\begin{array}{cc}w_{00} & w_{01} & b_0 \\\\ w_{10} & w_{11} & b_1 \\end{array}\\right)\\left(\\begin{array}{c}x_1\\\\ x_2\\\\ 1 \\end{array}\\right) = \\left(\\begin{array}{c}w_{00}x_1+ w_{01}x_2+b_0 \\\\ w_{10}x_1+ w_{11}x_2+b_1\\end{array}\\right) = W^T\\vec{x}+\\vec{b}\n",
    "\\end{equation}\n",
    "This way, gradient descent updates the bias for the first and second layer when it updates $W^T$ and $V^T$. So, we need a function that appends a row of ones to our inputs:"
   ]
  },
  {
   "cell_type": "code",
   "execution_count": 8,
   "metadata": {
    "ExecuteTime": {
     "end_time": "2018-11-20T16:23:32.807317Z",
     "start_time": "2018-11-20T16:23:32.794845Z"
    }
   },
   "outputs": [],
   "source": [
    "def add_row_ones(X):\n",
    "    return np.append(X,np.ones(X.shape[1])).reshape(X.shape[0]+1,X.shape[1])"
   ]
  },
  {
   "cell_type": "markdown",
   "metadata": {},
   "source": [
    "As for computing the gradient, it's somewhat messy, but one can get an idea for the relationships involved by looking at a toy case like all matrices being $2\\times 2$. To summarize, the relationships we have are:\n",
    "\\begin{equation}\n",
    "\\displaystyle \\frac{\\partial L}{\\partial W^T} = \\frac{\\partial L}{\\partial Y_W}X^T,\\quad \\frac{\\partial L}{\\partial Y_W} = \\frac{\\partial L}{\\partial \\sigma(Y_W)}\\cdot\\sigma'(Y_W),\\quad \\frac{\\partial L}{\\partial\\sigma(Y_W)} = V\\frac{\\partial L}{\\partial Y_V},\\quad \\frac{\\partial L}{\\partial Y_V} = \\frac{\\partial L}{\\partial\\sigma(Y_V)}\\cdot\\sigma'(Y_V),\\quad\\text{and}\\quad \\frac{\\partial L}{\\partial\\sigma(Y_V)} = 2(\\sigma(Y_V)-T)\n",
    "\\end{equation}\n",
    "where $Y_W = W^TX$, $Y_V = V^T\\sigma(Y_W)$, $\\sigma(Y_W)$ and $\\sigma(Y_V)$ are the sigmoid applied entry-wise to $Y_W$ and $Y_V$ respectively, and $T$ is the matrix of true classes. This is encoded in the function below."
   ]
  },
  {
   "cell_type": "code",
   "execution_count": 9,
   "metadata": {
    "ExecuteTime": {
     "end_time": "2018-11-20T16:23:33.170760Z",
     "start_time": "2018-11-20T16:23:33.150385Z"
    }
   },
   "outputs": [],
   "source": [
    "def loss(WT,VT,X,y):\n",
    "    # add row of ones for bias\n",
    "    X1 = add_row_ones(X)\n",
    "    \n",
    "    # go to next layer\n",
    "    YW = np.dot(WT,X1)\n",
    "    \n",
    "    # apply sigmoid\n",
    "    SW = sigmoid(YW)\n",
    "    \n",
    "    # append ones for second bias\n",
    "    SW1 = add_row_ones(SW)\n",
    "    \n",
    "    # go to next layer\n",
    "    YV = np.dot(VT,SW1)\n",
    "    \n",
    "    # apply sigmoid\n",
    "    SV = sigmoid(YV)\n",
    "\n",
    "    # get predictions\n",
    "    y_pred = np.argmax(SV,axis=0)\n",
    "    \n",
    "    # compute difference of squares\n",
    "    Z = np.zeros_like(SV)\n",
    "    Z[ y,np.arange(SV.shape[1]) ] = 1\n",
    "    G = (SV-Z)**2\n",
    "    z = np.array([ G[:,i].sum() for i in range(G.shape[1]) ])\n",
    "    \n",
    "    # get loss\n",
    "    L=z.sum()\n",
    "    \n",
    "    # back propogation\n",
    "    dLdYV = 2*(SV-Z)*Dsigmoid(YV)\n",
    "    dLdSW = np.dot(VT[:,:-1].T,dLdYV)\n",
    "    dLdYW = dLdSW*Dsigmoid(YW)\n",
    "    dLdWT = np.dot(dLdYW,X1.T)\n",
    "    dLdVT = np.dot(dLdYV,SW1.T)\n",
    "    \n",
    "    return L, dLdWT, dLdVT, y_pred"
   ]
  },
  {
   "cell_type": "markdown",
   "metadata": {},
   "source": [
    "Before moving on, let's make sure that we've computed the gradients correctly. To check, we will make use of the standard approximation of the derivative:\n",
    "\n",
    "$$\n",
    "    f'(x) \\approx \\frac{f(x+\\delta)-f(x)}{\\delta}\n",
    "$$\n",
    "\n",
    "for very small $\\delta$."
   ]
  },
  {
   "cell_type": "code",
   "execution_count": 10,
   "metadata": {
    "ExecuteTime": {
     "end_time": "2018-11-20T16:23:34.806274Z",
     "start_time": "2018-11-20T16:23:34.720335Z"
    }
   },
   "outputs": [
    {
     "name": "stdout",
     "output_type": "stream",
     "text": [
      "Exact dWT:  0.1794152827957977\n",
      "Approx dWT:  0.17941523822173622 \n",
      "\n",
      "Exact dVT:  0.18827383155582522\n",
      "Approx dVT:  0.18827392977982527\n"
     ]
    }
   ],
   "source": [
    "k=2\n",
    "delta = 1.0e-8\n",
    "\n",
    "X = np.array([[1,2],[3,4]])\n",
    "y = np.array([0,1])\n",
    "\n",
    "WT = np.random.rand(k,X.shape[0]+1)\n",
    "VT = np.random.rand(10,k+1)\n",
    "\n",
    "LW0, dLdWT,foo1,foo2 = loss(WT,VT,X,y)\n",
    "WT1 = WT\n",
    "WT1[1,1] += delta\n",
    "LW1,foo,foo1,foo2 = loss(WT1,VT,X,y)\n",
    "approx = (LW1-LW0)/delta\n",
    "print('Exact dWT: ',dLdWT[1,1])\n",
    "print('Approx dWT: ',approx,'\\n')\n",
    "\n",
    "LV0, foo1, dLdVT, foo2 = loss(WT,VT,X,y)\n",
    "VT1 = np.array(VT)\n",
    "VT1[0,2] += delta\n",
    "LV1,foo,foo1,foo2 = loss(WT,VT1,X,y)\n",
    "approx = (LV1-LV0)/delta\n",
    "print('Exact dVT: ',dLdVT[0,2])\n",
    "print('Approx dVT: ',approx)"
   ]
  },
  {
   "cell_type": "markdown",
   "metadata": {},
   "source": [
    "Now, we define the gradient descent function."
   ]
  },
  {
   "cell_type": "code",
   "execution_count": 11,
   "metadata": {
    "ExecuteTime": {
     "end_time": "2018-11-20T16:23:35.391989Z",
     "start_time": "2018-11-20T16:23:35.376709Z"
    }
   },
   "outputs": [],
   "source": [
    "def iterate_learning(WT,VT,X,y,learn_rate,iterations,M):\n",
    "    L, gradLW, gradLV,y_pred = loss(WT,VT,X,y)\n",
    "    y_new_pred = loss(WT,VT,X_test,y_test)[-1]\n",
    "    acc = (y_new_pred==y_test).sum()*100/len(y_new_pred)\n",
    "    \n",
    "    print('Max Value of gradWT: ',gradLW.max())\n",
    "    print('Max Value of gradVT: ',gradLV.max())\n",
    "    print('Starting Loss: ',L,'Starting Accuracy: ',acc,'\\n')\n",
    "\n",
    "    for i in range(iterations):\n",
    "        #step along -grad\n",
    "        WT += -learn_rate*gradLW \n",
    "        VT += -learn_rate*gradLV\n",
    "        L, gradLW, gradLV, y_pred = loss(WT,VT,X,y)\n",
    "\n",
    "        y_new_pred = loss(WT,VT,X_test,y_test)[-1]\n",
    "        acc = (y_new_pred==y_test).sum()*100/len(y_new_pred)\n",
    "        if i%M==0: # only need to print every M\n",
    "            print('Loss: ',L,'Accuracy: ',acc)"
   ]
  },
  {
   "cell_type": "markdown",
   "metadata": {},
   "source": [
    "### First Run\n",
    "\n",
    "Now, we are ready for the first run. The 2-layer case is a bit more computationally intensive, so we will restrict ourselves to only the first 5000 images to get a feel for what is going on. We have a choice on the number of artificial neurons for the first layer, while the second/output layer must have 10 since this is the number of classes. Below, I am initializing $W^T$ to be the first $k$ images of our inputs $X$ for the simple reason that it's the only option I've found that works; all other options give a gradient that either vanishes or starts identically 0, and so $W^T$ is not updated/improved."
   ]
  },
  {
   "cell_type": "code",
   "execution_count": 12,
   "metadata": {
    "ExecuteTime": {
     "end_time": "2018-11-20T16:58:44.543731Z",
     "start_time": "2018-11-20T16:58:40.742549Z"
    }
   },
   "outputs": [
    {
     "name": "stdout",
     "output_type": "stream",
     "text": [
      "Max Value of gradWT:  20.331742987052987\n",
      "Max Value of gradVT:  111.91458299713307\n",
      "Starting Loss:  44447.29700475641 Starting Accuracy:  8.92 \n",
      "\n",
      "Loss:  43423.4981342212 Accuracy:  8.92\n",
      "Loss:  14900.992801201537 Accuracy:  8.92\n",
      "Loss:  8869.564813143632 Accuracy:  8.92\n",
      "Loss:  4788.5012910935575 Accuracy:  9.39\n",
      "Loss:  4786.106647894086 Accuracy:  10.27\n"
     ]
    },
    {
     "data": {
      "image/png": "[encoded data removed]",
      "text/plain": [
       "<Figure size 2592x504 with 12 Axes>"
      ]
     },
     "metadata": {},
     "output_type": "display_data"
    }
   ],
   "source": [
    "num_images=5000\n",
    "k=12\n",
    "X = np.array(train_images[:num_images]).T/784\n",
    "y = np.array(train_labels[:num_images])\n",
    "\n",
    "#WT = np.random.rand(k,X.shape[0]+1) #random\n",
    "WT = add_row_ones(X)[:,:k].T # currently best option\n",
    "\n",
    "VT = np.random.rand(10,k+1)\n",
    "#VT = np.zeros((10,k+1))\n",
    "\n",
    "show_nodes(WT,'Y')\n",
    "iterate_learning(WT,VT,X,y,1e-3,25,5)"
   ]
  },
  {
   "cell_type": "markdown",
   "metadata": {},
   "source": [
    "Clearly this isn't going to improve terribly fast, but we'll run gradient descent for a while and see where we end up:"
   ]
  },
  {
   "cell_type": "code",
   "execution_count": 13,
   "metadata": {
    "ExecuteTime": {
     "end_time": "2018-11-20T17:00:11.910268Z",
     "start_time": "2018-11-20T16:58:49.758691Z"
    }
   },
   "outputs": [
    {
     "name": "stdout",
     "output_type": "stream",
     "text": [
      "Max Value of gradWT:  4.492500474268541\n",
      "Max Value of gradVT:  5.36098704188331\n",
      "Starting Loss:  4783.957299362275 Starting Accuracy:  10.97 \n",
      "\n",
      "Loss:  4783.37181887802 Accuracy:  11.14\n",
      "Loss:  4775.885311569525 Accuracy:  12.67\n",
      "Loss:  4762.7158425922225 Accuracy:  14.35\n",
      "Loss:  4734.474142516454 Accuracy:  21.36\n",
      "Loss:  4671.142648156719 Accuracy:  25.78\n",
      "Loss:  4559.046026397925 Accuracy:  29.71\n",
      "Loss:  4404.433565465166 Accuracy:  33.06\n",
      "Loss:  4232.061989188676 Accuracy:  34.42\n",
      "Loss:  4055.4767924511507 Accuracy:  35.21\n",
      "Loss:  3900.5976794306252 Accuracy:  36.11\n"
     ]
    }
   ],
   "source": [
    "iterate_learning(WT,VT,X,y,1e-3,100,10)"
   ]
  },
  {
   "cell_type": "markdown",
   "metadata": {
    "ExecuteTime": {
     "end_time": "2018-11-20T16:44:38.730043Z",
     "start_time": "2018-11-20T16:43:45.284857Z"
    }
   },
   "source": [
    "That is as far as I'm willing to go for now. We will see shortly how to make this process faster. The learning rate is extremely fickle: I've lost some fairly high accuracies due to being greedy and increasing the learning rate to 15e-3. Let's see what $W^T$ is searching for in the first layer: "
   ]
  },
  {
   "cell_type": "code",
   "execution_count": 14,
   "metadata": {
    "ExecuteTime": {
     "end_time": "2018-11-20T16:51:05.003253Z",
     "start_time": "2018-11-20T16:51:04.465704Z"
    }
   },
   "outputs": [
    {
     "data": {
      "image/png": "[encoded data removed]",
      "text/plain": [
       "<Figure size 2592x504 with 12 Axes>"
      ]
     },
     "metadata": {},
     "output_type": "display_data"
    }
   ],
   "source": [
    "show_nodes(WT,'Y')"
   ]
  },
  {
   "cell_type": "markdown",
   "metadata": {},
   "source": [
    "There are some fairly abstract patterns here, with several numbers sitting untouched. At this point, since we are only around 58% accuracy I'm hesitant to say that the rows of $W^T$ that haven't been altered much are extraneous. \n",
    "\n",
    "Now we are in a position where improving computation time is motivated, so we'll move on to mini-batches."
   ]
  },
  {
   "cell_type": "markdown",
   "metadata": {},
   "source": [
    "## 3. Mini-Batches\n",
    "\n",
    "So far we have only trained on 5000 images, only $\\approx$8% of the total training data available. Of course, it would be nice to use all of it at once, but this isn't computationally feasible. So, we employ the standard trick of breaking the computation up into several pieces which are easier to manage. For us, these smaller pieces are called 'mini-batches'.\n",
    "\n",
    "Here is our procedure: a mini-batch will be a set containing $m$ images. We randomly shuffle the set of integers ```S = np.arange(60,000)``` and partition it into $60000/m$ smaller sets $S_i$, which will then be used to index the training data. If $F$ is the set of training data, then each $F[[S_i]]$ is a mini-batch."
   ]
  },
  {
   "cell_type": "code",
   "execution_count": 15,
   "metadata": {
    "ExecuteTime": {
     "end_time": "2018-11-20T05:02:32.544517Z",
     "start_time": "2018-11-20T05:02:30.518268Z"
    }
   },
   "outputs": [
    {
     "data": {
      "text/plain": [
       "(60000, 784)"
      ]
     },
     "execution_count": 15,
     "metadata": {},
     "output_type": "execute_result"
    }
   ],
   "source": [
    "# helpful global variables\n",
    "F = np.array(train_images)\n",
    "f = np.array(train_labels)\n",
    "\n",
    "F.shape"
   ]
  },
  {
   "cell_type": "markdown",
   "metadata": {},
   "source": [
    "The function below works exactly as described above."
   ]
  },
  {
   "cell_type": "code",
   "execution_count": 16,
   "metadata": {
    "ExecuteTime": {
     "end_time": "2018-11-20T05:02:38.526995Z",
     "start_time": "2018-11-20T05:02:38.510882Z"
    }
   },
   "outputs": [],
   "source": [
    "def create_batches(mini_batch_size):\n",
    "    # get number of partitions\n",
    "    k = int(60000/mini_batch_size)\n",
    "\n",
    "    # shuffle set of integers from 0 to 59,999\n",
    "    l = np.random.choice(np.arange(60000),60000,replace=False)\n",
    "    l = l.reshape((k,mini_batch_size))\n",
    "\n",
    "    # get array of mini-batches\n",
    "    B = np.array(\n",
    "        [\n",
    "            F[[ l[i] ]].T/784 for i in range(k)\n",
    "        ]\n",
    "    )\n",
    "    \n",
    "    # get true classes for each mini-batch\n",
    "    y = np.array(\n",
    "        [\n",
    "            f[[ l[i] ]] for i in range(k)\n",
    "        ]\n",
    "    )\n",
    "    return B, y"
   ]
  },
  {
   "cell_type": "markdown",
   "metadata": {},
   "source": [
    "Let's look at a quick example. We choose a mini-batch size of 500 images, giving us a set of 60000/500 = 120 mini-batches. The following shows the 5th image and its true class of the 21st mini-batch:"
   ]
  },
  {
   "cell_type": "code",
   "execution_count": 17,
   "metadata": {},
   "outputs": [
    {
     "name": "stderr",
     "output_type": "stream",
     "text": [
      "/tmp/ipykernel_9789/282092606.py:12: FutureWarning: Using a non-tuple sequence for multidimensional indexing is deprecated; use `arr[tuple(seq)]` instead of `arr[seq]`. In the future this will be interpreted as an array index, `arr[np.array(seq)]`, which will result either in an error or a different result.\n",
      "  F[[ l[i] ]].T/784 for i in range(k)\n",
      "/tmp/ipykernel_9789/282092606.py:19: FutureWarning: Using a non-tuple sequence for multidimensional indexing is deprecated; use `arr[tuple(seq)]` instead of `arr[seq]`. In the future this will be interpreted as an array index, `arr[np.array(seq)]`, which will result either in an error or a different result.\n",
      "  f[[ l[i] ]] for i in range(k)\n"
     ]
    },
    {
     "data": {
      "text/plain": [
       "(None, 1)"
      ]
     },
     "execution_count": 17,
     "metadata": {},
     "output_type": "execute_result"
    },
    {
     "data": {
      "image/png": "[encoded data removed]",
      "text/plain": [
       "<Figure size 432x288 with 1 Axes>"
      ]
     },
     "metadata": {},
     "output_type": "display_data"
    }
   ],
   "source": [
    "B, y = create_batches(500)\n",
    "show_num(B[21],5),y[21][5]"
   ]
  },
  {
   "cell_type": "markdown",
   "metadata": {},
   "source": [
    "Our gradient descent algorithm will look different now. The new procedure is to take a set of mini-batches, and use a random mini-batch for each iteration of gradient descent. This way, the parameters are 'seeing' all of the training data, but not all at once which is much less computationally intensive, and possibly more efficient. "
   ]
  },
  {
   "cell_type": "code",
   "execution_count": 18,
   "metadata": {},
   "outputs": [],
   "source": [
    "def mb_desc(WT,VT,X,y,learn_rate,iterations,M,batch,y_batch):\n",
    "    # get first batch\n",
    "    X = batch[0]\n",
    "    y = y_batch[0]\n",
    "    \n",
    "    # generate loss, initial accuracy on test data\n",
    "    L, gradLW, gradLV,y_pred = loss(WT,VT,X,y)\n",
    "    y_new_pred = loss(WT,VT,X_test,y_test)[-1]\n",
    "    acc = (y_new_pred==y_test).sum()*100/len(y_new_pred)\n",
    "    \n",
    "    # print initial info\n",
    "    print('Max Value of gradWT: ',gradLW.max())\n",
    "    print('Max Value of gradVT: ',gradLV.max())\n",
    "    print('Starting Loss: ',L,'Starting Accuracy: ',acc,'\\n')\n",
    "\n",
    "    # iterate over batches, computing loss and accuracy\n",
    "    for i in range(iterations):\n",
    "        # select random batch and get images and labels\n",
    "        j = np.random.randint(batch.shape[0])\n",
    "        X = batch[j]\n",
    "        y = y_batch[j]\n",
    "        \n",
    "        # compute loss, grad, step along -grad\n",
    "        L, gradLW, gradLV, y_pred = loss(WT,VT,X,y)\n",
    "        WT += -learn_rate*gradLW \n",
    "        VT += -learn_rate*gradLV\n",
    "        \n",
    "        # compute new accuracy and print occasionally \n",
    "        y_new_pred = loss(WT,VT,X_test,y_test)[-1]\n",
    "        acc = (y_new_pred==y_test).sum()*100/len(y_new_pred)\n",
    "        if i%M==0: # only need to print every M\n",
    "            print('Loss: ',L,'Accuracy: ',acc)"
   ]
  },
  {
   "cell_type": "markdown",
   "metadata": {},
   "source": [
    "Now, we create a set of mini-batches with each containing 3000 images. This gives us 20 sets of images to randomly iterate gradient descent over. Since we are updating the  loss for different batches of images each time, we will not always have a smaller loss or higher accuracy at each step. This will resemble more of a drunken walk down to the local minimum. \n",
    "\n",
    "The trick here is to choose a mini batch size that is small enough to make the gradient computation quick, but not so small that we have a garbage approximation to the data set. For this reason we will stick with a mini-batch size of 3000. We will also use 'archetypes' for the initial $W^T$."
   ]
  },
  {
   "cell_type": "code",
   "execution_count": 19,
   "metadata": {},
   "outputs": [
    {
     "name": "stderr",
     "output_type": "stream",
     "text": [
      "/tmp/ipykernel_9789/282092606.py:12: FutureWarning: Using a non-tuple sequence for multidimensional indexing is deprecated; use `arr[tuple(seq)]` instead of `arr[seq]`. In the future this will be interpreted as an array index, `arr[np.array(seq)]`, which will result either in an error or a different result.\n",
      "  F[[ l[i] ]].T/784 for i in range(k)\n",
      "/tmp/ipykernel_9789/282092606.py:19: FutureWarning: Using a non-tuple sequence for multidimensional indexing is deprecated; use `arr[tuple(seq)]` instead of `arr[seq]`. In the future this will be interpreted as an array index, `arr[np.array(seq)]`, which will result either in an error or a different result.\n",
      "  f[[ l[i] ]] for i in range(k)\n",
      "/tmp/ipykernel_9789/324316169.py:9: FutureWarning: Using a non-tuple sequence for multidimensional indexing is deprecated; use `arr[tuple(seq)]` instead of `arr[seq]`. In the future this will be interpreted as an array index, `arr[np.array(seq)]`, which will result either in an error or a different result.\n",
      "  WT = add_row_ones(F[[archetype]].T).T/784\n"
     ]
    },
    {
     "data": {
      "image/png": "[encoded data removed]",
      "text/plain": [
       "<Figure size 2592x504 with 10 Axes>"
      ]
     },
     "metadata": {},
     "output_type": "display_data"
    }
   ],
   "source": [
    "# get batches\n",
    "B, y_B = create_batches(3000)\n",
    "\n",
    "k=10 # number of nodes for first layer\n",
    "X = B[0]\n",
    "y = y_B[0]\n",
    "\n",
    "archetype = np.array([56,6,25,7,58,244,221,38,46,45])\n",
    "WT = add_row_ones(F[[archetype]].T).T/784 \n",
    "\n",
    "VT = np.random.rand(10,k+1)\n",
    "show_nodes(WT,'Y')"
   ]
  },
  {
   "cell_type": "code",
   "execution_count": 21,
   "metadata": {},
   "outputs": [
    {
     "name": "stdout",
     "output_type": "stream",
     "text": [
      "Max Value of gradWT:  7.351902876691205\n",
      "Max Value of gradVT:  10.695292130812794\n",
      "Starting Loss:  2729.0678681505224 Starting Accuracy:  18.33 \n",
      "\n",
      "Loss:  2731.391316788926 Accuracy:  17.29\n",
      "Loss:  2727.424695485354 Accuracy:  17.98\n",
      "Loss:  2722.391871445039 Accuracy:  14.87\n",
      "Loss:  2718.376858852339 Accuracy:  17.37\n",
      "Loss:  2714.574123601261 Accuracy:  18.44\n",
      "Loss:  2705.42821289559 Accuracy:  21.67\n",
      "Loss:  2704.4974255261527 Accuracy:  27.64\n",
      "Loss:  2700.440115575291 Accuracy:  22.72\n",
      "Loss:  2700.1761937441543 Accuracy:  22.99\n",
      "Loss:  2694.0526278146112 Accuracy:  27.08\n",
      "Loss:  2695.4529739458085 Accuracy:  22.38\n",
      "Loss:  2692.218391008723 Accuracy:  21.19\n",
      "Loss:  2700.3029238703884 Accuracy:  25.74\n",
      "Loss:  2693.0621990854565 Accuracy:  26.46\n",
      "Loss:  2689.703940375929 Accuracy:  26.36\n",
      "Loss:  2690.5938772675217 Accuracy:  27.15\n",
      "Loss:  2685.448225270723 Accuracy:  26.49\n",
      "Loss:  2679.5798393383725 Accuracy:  28.21\n",
      "Loss:  2673.9740765192014 Accuracy:  26.69\n",
      "Loss:  2681.0612997500184 Accuracy:  26.17\n",
      "Loss:  2673.9246354969687 Accuracy:  25.15\n",
      "Loss:  2674.991064797356 Accuracy:  25.73\n",
      "Loss:  2669.51922689039 Accuracy:  24.17\n",
      "Loss:  2673.2910208675107 Accuracy:  27.09\n",
      "Loss:  2664.3843885924352 Accuracy:  25.66\n",
      "Loss:  2665.633580993062 Accuracy:  27.36\n",
      "Loss:  2660.2493920427096 Accuracy:  29.06\n",
      "Loss:  2653.6798783467666 Accuracy:  26.73\n",
      "Loss:  2647.545250212984 Accuracy:  26.7\n",
      "Loss:  2642.6787137407396 Accuracy:  28.57\n",
      "Loss:  2639.415696040387 Accuracy:  27.26\n",
      "Loss:  2634.952262742525 Accuracy:  27.47\n",
      "Loss:  2630.785327486598 Accuracy:  28.53\n",
      "Loss:  2625.9205789004536 Accuracy:  26.05\n",
      "Loss:  2621.0814087588196 Accuracy:  28.04\n",
      "Loss:  2624.1818611719377 Accuracy:  28.94\n",
      "Loss:  2620.7941743955234 Accuracy:  28.18\n",
      "Loss:  2608.211837315786 Accuracy:  28.53\n",
      "Loss:  2620.8272529999613 Accuracy:  28.43\n",
      "Loss:  2599.6325008264325 Accuracy:  26.87\n",
      "Loss:  2596.8523711123535 Accuracy:  27.26\n",
      "Loss:  2594.4894397926646 Accuracy:  27.58\n",
      "Loss:  2580.7704640312586 Accuracy:  27.39\n",
      "Loss:  2584.8512810431303 Accuracy:  28.9\n",
      "Loss:  2574.318695034078 Accuracy:  27.38\n",
      "Loss:  2551.9142907511487 Accuracy:  27.26\n",
      "Loss:  2549.1414228755184 Accuracy:  26.25\n",
      "Loss:  2554.770063490696 Accuracy:  28.22\n",
      "Loss:  2551.711936402051 Accuracy:  27.79\n",
      "Loss:  2540.3957618988416 Accuracy:  27.33\n",
      "Loss:  2544.2260310014526 Accuracy:  28.85\n",
      "Loss:  2517.9961289296625 Accuracy:  26.85\n",
      "Loss:  2548.0179703225676 Accuracy:  28.41\n",
      "Loss:  2539.003638748461 Accuracy:  28.14\n",
      "Loss:  2511.655455926374 Accuracy:  27.65\n",
      "Loss:  2498.707478454261 Accuracy:  28.1\n",
      "Loss:  2521.5099639648697 Accuracy:  28.6\n",
      "Loss:  2480.0169708193275 Accuracy:  27.63\n",
      "Loss:  2483.147017436513 Accuracy:  28.29\n",
      "Loss:  2475.083104912079 Accuracy:  27.9\n",
      "Loss:  2466.8890948685503 Accuracy:  28.75\n",
      "Loss:  2484.8632157211923 Accuracy:  28.89\n",
      "Loss:  2460.87647860346 Accuracy:  28.6\n",
      "Loss:  2446.3044970663154 Accuracy:  29.01\n",
      "Loss:  2414.0420421509953 Accuracy:  28.62\n",
      "Loss:  2459.519739666649 Accuracy:  29.2\n",
      "Loss:  2431.860432200091 Accuracy:  28.71\n",
      "Loss:  2417.680035219095 Accuracy:  28.67\n",
      "Loss:  2408.8015079837937 Accuracy:  28.67\n",
      "Loss:  2407.0432204061713 Accuracy:  28.86\n",
      "Loss:  2397.9653606174725 Accuracy:  28.85\n",
      "Loss:  2401.7634126535777 Accuracy:  29.09\n",
      "Loss:  2389.113670028747 Accuracy:  29.11\n",
      "Loss:  2414.174339384167 Accuracy:  29.85\n",
      "Loss:  2381.85550968873 Accuracy:  29.37\n",
      "Loss:  2354.3902321185656 Accuracy:  29.23\n",
      "Loss:  2366.641426392752 Accuracy:  30.11\n",
      "Loss:  2392.838490793254 Accuracy:  30.8\n",
      "Loss:  2344.670333388948 Accuracy:  29.81\n",
      "Loss:  2323.69448857575 Accuracy:  30.11\n",
      "Loss:  2378.7384630663973 Accuracy:  31.98\n",
      "Loss:  2340.0135820307623 Accuracy:  30.47\n",
      "Loss:  2343.0737279021632 Accuracy:  30.95\n",
      "Loss:  2337.087642967332 Accuracy:  31.45\n",
      "Loss:  2294.112585915262 Accuracy:  30.37\n",
      "Loss:  2287.574618067787 Accuracy:  30.7\n",
      "Loss:  2314.309192725848 Accuracy:  31.77\n",
      "Loss:  2278.039110467697 Accuracy:  31.19\n",
      "Loss:  2306.9591366251398 Accuracy:  32.79\n",
      "Loss:  2309.9830810169346 Accuracy:  33.44\n",
      "Loss:  2298.0982805744798 Accuracy:  32.41\n",
      "Loss:  2292.5833914192626 Accuracy:  32.41\n",
      "Loss:  2286.4155740048263 Accuracy:  33.71\n",
      "Loss:  2291.931886420897 Accuracy:  34.82\n",
      "Loss:  2287.068504213825 Accuracy:  35.42\n",
      "Loss:  2275.6219508249883 Accuracy:  33.98\n",
      "Loss:  2273.449155433663 Accuracy:  35.75\n",
      "Loss:  2246.6924281616884 Accuracy:  35.4\n",
      "Loss:  2270.2688406853213 Accuracy:  36.73\n",
      "Loss:  2276.0331747312557 Accuracy:  36.12\n",
      "Loss:  2255.0475735220407 Accuracy:  36.88\n",
      "Loss:  2246.051755534397 Accuracy:  36.96\n",
      "Loss:  2246.1164640411253 Accuracy:  37.5\n",
      "Loss:  2260.604793573526 Accuracy:  37.72\n",
      "Loss:  2239.42192321112 Accuracy:  38.25\n",
      "Loss:  2251.3568583546867 Accuracy:  38.19\n",
      "Loss:  2247.779440912082 Accuracy:  38.05\n",
      "Loss:  2241.5238014602455 Accuracy:  38.0\n",
      "Loss:  2217.466914493671 Accuracy:  37.72\n",
      "Loss:  2211.592488548311 Accuracy:  38.11\n",
      "Loss:  2211.7835057813127 Accuracy:  38.93\n",
      "Loss:  2235.824861571946 Accuracy:  39.47\n",
      "Loss:  2230.090242238918 Accuracy:  39.72\n",
      "Loss:  2199.17891111513 Accuracy:  40.25\n",
      "Loss:  2189.033771965376 Accuracy:  39.88\n",
      "Loss:  2189.2652257252494 Accuracy:  39.29\n",
      "Loss:  2218.137288504723 Accuracy:  40.58\n",
      "Loss:  2176.4194432929035 Accuracy:  40.24\n",
      "Loss:  2188.257096205568 Accuracy:  40.54\n",
      "Loss:  2175.1871540935067 Accuracy:  39.49\n",
      "Loss:  2170.211635186607 Accuracy:  39.6\n",
      "Loss:  2177.640837178931 Accuracy:  40.88\n",
      "Loss:  2164.881230898468 Accuracy:  41.08\n",
      "Loss:  2160.4106824784985 Accuracy:  41.49\n",
      "Loss:  2153.5121261491786 Accuracy:  40.76\n",
      "Loss:  2165.1982369529724 Accuracy:  41.48\n",
      "Loss:  2167.5290302479875 Accuracy:  40.99\n",
      "Loss:  2147.7540393621066 Accuracy:  41.92\n",
      "Loss:  2159.146091936507 Accuracy:  41.54\n",
      "Loss:  2101.953567089896 Accuracy:  41.19\n",
      "Loss:  2151.0806040578304 Accuracy:  41.39\n",
      "Loss:  2148.5597460807503 Accuracy:  41.53\n",
      "Loss:  2142.5937176344205 Accuracy:  41.69\n",
      "Loss:  2138.340435348822 Accuracy:  42.66\n",
      "Loss:  2111.516714343311 Accuracy:  42.06\n",
      "Loss:  2109.679763322165 Accuracy:  41.96\n",
      "Loss:  2072.5910838646223 Accuracy:  41.7\n",
      "Loss:  2104.64359175185 Accuracy:  41.95\n",
      "Loss:  2099.143789332951 Accuracy:  42.14\n",
      "Loss:  2117.5043056976656 Accuracy:  42.08\n",
      "Loss:  2109.62283133087 Accuracy:  43.0\n",
      "Loss:  2054.424801545377 Accuracy:  42.29\n",
      "Loss:  2081.618513176877 Accuracy:  43.17\n",
      "Loss:  2081.782736188453 Accuracy:  42.81\n",
      "Loss:  2073.429217921277 Accuracy:  43.58\n",
      "Loss:  2080.013297472226 Accuracy:  42.65\n",
      "Loss:  2091.403042714619 Accuracy:  42.58\n",
      "Loss:  2069.328345903533 Accuracy:  42.91\n",
      "Loss:  2063.50921654769 Accuracy:  43.32\n",
      "Loss:  2068.1190351217747 Accuracy:  43.25\n",
      "Loss:  2074.2003393369378 Accuracy:  44.37\n",
      "Loss:  2060.6807332988565 Accuracy:  44.26\n",
      "Loss:  2053.306210289505 Accuracy:  43.68\n",
      "Loss:  2054.6753968024896 Accuracy:  43.68\n",
      "Loss:  2046.369744886392 Accuracy:  43.72\n",
      "Loss:  2000.8710530971696 Accuracy:  43.76\n",
      "Loss:  2055.4396586153007 Accuracy:  44.03\n",
      "Loss:  2030.1131240283762 Accuracy:  44.04\n",
      "Loss:  1988.640726721057 Accuracy:  44.25\n",
      "Loss:  2039.4699495091807 Accuracy:  45.39\n",
      "Loss:  2018.987117042402 Accuracy:  44.89\n",
      "Loss:  2016.2795522574984 Accuracy:  45.13\n",
      "Loss:  2021.688143570193 Accuracy:  45.89\n",
      "Loss:  2007.2482567400164 Accuracy:  45.67\n",
      "Loss:  2014.417161812942 Accuracy:  46.37\n",
      "Loss:  1985.4417659975006 Accuracy:  46.23\n",
      "Loss:  1994.406680972044 Accuracy:  45.86\n",
      "Loss:  1991.2191950932647 Accuracy:  45.93\n",
      "Loss:  2006.4487130398845 Accuracy:  47.08\n",
      "Loss:  1984.9354187548402 Accuracy:  47.08\n",
      "Loss:  1978.6353587971244 Accuracy:  46.45\n",
      "Loss:  2000.653986778873 Accuracy:  46.77\n",
      "Loss:  1994.5257573071142 Accuracy:  47.07\n",
      "Loss:  1986.5931045932653 Accuracy:  48.71\n",
      "Loss:  1963.5741750235868 Accuracy:  48.25\n",
      "Loss:  1976.709920978718 Accuracy:  49.2\n",
      "Loss:  1965.873307839891 Accuracy:  49.16\n",
      "Loss:  1973.4850899482394 Accuracy:  48.66\n",
      "Loss:  1963.5228387089937 Accuracy:  50.09\n",
      "Loss:  1939.8621770922286 Accuracy:  49.03\n",
      "Loss:  1956.009022630425 Accuracy:  49.34\n",
      "Loss:  1932.0713644108719 Accuracy:  50.33\n",
      "Loss:  1932.9079668991753 Accuracy:  49.53\n",
      "Loss:  1944.9012851152004 Accuracy:  49.91\n",
      "Loss:  1929.5829856960672 Accuracy:  49.72\n",
      "Loss:  1931.786265505395 Accuracy:  50.95\n",
      "Loss:  1918.4253395632265 Accuracy:  50.46\n",
      "Loss:  1897.9964498190684 Accuracy:  51.82\n",
      "Loss:  1930.011697738404 Accuracy:  52.27\n",
      "Loss:  1907.0880387782054 Accuracy:  53.16\n"
     ]
    },
    {
     "name": "stdout",
     "output_type": "stream",
     "text": [
      "Loss:  1902.988330334673 Accuracy:  53.81\n",
      "Loss:  1874.9192555096092 Accuracy:  53.09\n",
      "Loss:  1891.9445226250025 Accuracy:  54.45\n",
      "Loss:  1901.225190082365 Accuracy:  54.16\n",
      "Loss:  1881.7022593317915 Accuracy:  55.24\n",
      "Loss:  1873.8150943309531 Accuracy:  54.11\n",
      "Loss:  1816.9852574340102 Accuracy:  54.7\n",
      "Loss:  1834.8468848815503 Accuracy:  55.52\n",
      "Loss:  1848.688107652864 Accuracy:  56.61\n",
      "Loss:  1845.8165863098634 Accuracy:  56.23\n",
      "Loss:  1793.7442362798624 Accuracy:  56.15\n",
      "Loss:  1850.2532444944316 Accuracy:  56.71\n",
      "Loss:  1829.930868854539 Accuracy:  58.0\n",
      "Loss:  1818.2815216378235 Accuracy:  57.35\n",
      "Loss:  1833.9564529231943 Accuracy:  57.79\n",
      "Loss:  1812.9320433556068 Accuracy:  58.61\n",
      "Loss:  1783.8465590998082 Accuracy:  59.36\n",
      "Loss:  1817.1593591594192 Accuracy:  59.43\n",
      "Loss:  1793.5329172334118 Accuracy:  59.07\n",
      "Loss:  1792.1771880520268 Accuracy:  59.56\n",
      "Loss:  1799.2495818121238 Accuracy:  60.3\n",
      "Loss:  1785.2781433465866 Accuracy:  61.29\n",
      "Loss:  1785.760640879867 Accuracy:  59.73\n",
      "Loss:  1784.0221322218902 Accuracy:  60.8\n",
      "Loss:  1760.669367425451 Accuracy:  61.15\n",
      "Loss:  1769.460159485799 Accuracy:  61.37\n",
      "Loss:  1760.7397538493815 Accuracy:  62.72\n",
      "Loss:  1769.1982790640493 Accuracy:  61.5\n",
      "Loss:  1757.5522348869201 Accuracy:  61.86\n",
      "Loss:  1756.1876333719333 Accuracy:  61.81\n",
      "Loss:  1749.067660150547 Accuracy:  62.0\n",
      "Loss:  1729.9850235777603 Accuracy:  61.61\n",
      "Loss:  1740.7071538099478 Accuracy:  61.85\n",
      "Loss:  1715.4851643696056 Accuracy:  62.34\n",
      "Loss:  1698.851088146999 Accuracy:  62.15\n",
      "Loss:  1724.3430891182695 Accuracy:  62.6\n",
      "Loss:  1701.7249733724743 Accuracy:  62.99\n",
      "Loss:  1708.5520457087684 Accuracy:  63.58\n",
      "Loss:  1692.006370348145 Accuracy:  63.27\n",
      "Loss:  1713.4885483162793 Accuracy:  63.8\n",
      "Loss:  1686.3739296582241 Accuracy:  65.99\n",
      "Loss:  1704.0768528238377 Accuracy:  65.6\n",
      "Loss:  1650.1518209851529 Accuracy:  64.54\n",
      "Loss:  1664.6620934185412 Accuracy:  63.89\n",
      "Loss:  1636.0835482697967 Accuracy:  64.27\n",
      "Loss:  1660.8271826286687 Accuracy:  64.6\n",
      "Loss:  1630.4785402776483 Accuracy:  64.89\n",
      "Loss:  1624.7221520664023 Accuracy:  64.73\n",
      "Loss:  1643.6507817671231 Accuracy:  65.58\n",
      "Loss:  1639.601349692773 Accuracy:  65.18\n",
      "Loss:  1630.2004994925146 Accuracy:  65.93\n",
      "Loss:  1601.7552113737277 Accuracy:  65.81\n",
      "Loss:  1618.1673567056307 Accuracy:  66.56\n",
      "Loss:  1590.5470410260575 Accuracy:  66.4\n",
      "Loss:  1609.508722797958 Accuracy:  67.75\n",
      "Loss:  1625.2786860289764 Accuracy:  68.57\n",
      "Loss:  1616.0688010748977 Accuracy:  68.45\n",
      "Loss:  1567.8842433349125 Accuracy:  67.86\n",
      "Loss:  1582.3883253006893 Accuracy:  68.14\n",
      "Loss:  1603.7627130282021 Accuracy:  69.37\n",
      "Loss:  1576.0106058006882 Accuracy:  69.27\n",
      "Loss:  1582.113929632624 Accuracy:  69.34\n",
      "Loss:  1588.6771764294372 Accuracy:  70.13\n",
      "Loss:  1565.8655971028575 Accuracy:  69.72\n",
      "Loss:  1530.3085609146133 Accuracy:  69.47\n",
      "Loss:  1545.1586253265039 Accuracy:  69.43\n",
      "Loss:  1558.8351923515424 Accuracy:  69.99\n",
      "Loss:  1534.572432671124 Accuracy:  70.09\n",
      "Loss:  1537.759756796531 Accuracy:  70.93\n",
      "Loss:  1541.8186687786197 Accuracy:  71.81\n",
      "Loss:  1497.0328582089019 Accuracy:  70.28\n",
      "Loss:  1469.5570578813401 Accuracy:  70.67\n",
      "Loss:  1517.7185469707733 Accuracy:  71.4\n",
      "Loss:  1514.3224230724131 Accuracy:  71.38\n",
      "Loss:  1474.9250738627698 Accuracy:  71.48\n",
      "Loss:  1518.697875773626 Accuracy:  72.03\n",
      "Loss:  1493.024315148374 Accuracy:  72.11\n",
      "Loss:  1484.7384872421444 Accuracy:  72.84\n",
      "Loss:  1483.177889923581 Accuracy:  73.34\n",
      "Loss:  1480.3221900054862 Accuracy:  73.61\n",
      "Loss:  1494.2612834617416 Accuracy:  73.57\n",
      "Loss:  1440.4069621055921 Accuracy:  73.37\n",
      "Loss:  1466.6467077706038 Accuracy:  74.24\n",
      "Loss:  1471.7261472011205 Accuracy:  73.72\n",
      "Loss:  1464.3812427840728 Accuracy:  73.68\n",
      "Loss:  1418.1921764916856 Accuracy:  73.91\n",
      "Loss:  1447.5894274030552 Accuracy:  73.83\n",
      "Loss:  1388.1689573880662 Accuracy:  73.58\n",
      "Loss:  1431.0356686125574 Accuracy:  74.96\n",
      "Loss:  1425.5396499376834 Accuracy:  74.67\n",
      "Loss:  1428.2840567641638 Accuracy:  74.52\n",
      "Loss:  1431.7797551501862 Accuracy:  75.79\n",
      "Loss:  1411.1542344868217 Accuracy:  75.61\n",
      "Loss:  1377.0319145711567 Accuracy:  74.02\n",
      "Loss:  1400.7586081205918 Accuracy:  75.71\n",
      "Loss:  1417.5188980983587 Accuracy:  76.0\n",
      "Loss:  1365.828850532096 Accuracy:  76.1\n",
      "Loss:  1394.5722117301311 Accuracy:  75.77\n",
      "Loss:  1391.0039499908164 Accuracy:  76.26\n",
      "Loss:  1376.547101116212 Accuracy:  76.44\n",
      "Loss:  1398.8061424858624 Accuracy:  76.61\n",
      "Loss:  1374.8203549633624 Accuracy:  76.81\n",
      "Loss:  1317.1234251448102 Accuracy:  76.26\n",
      "Loss:  1330.9904545145223 Accuracy:  77.06\n",
      "Loss:  1354.4663267526607 Accuracy:  76.6\n",
      "Loss:  1362.216965523183 Accuracy:  77.05\n",
      "Loss:  1370.2450951766841 Accuracy:  77.4\n",
      "Loss:  1359.0265293146763 Accuracy:  77.78\n",
      "Loss:  1335.5518191945243 Accuracy:  77.31\n",
      "Loss:  1298.2547863101486 Accuracy:  76.56\n",
      "Loss:  1344.3409652392552 Accuracy:  78.37\n",
      "Loss:  1326.7376646967305 Accuracy:  78.37\n",
      "Loss:  1322.8842459484292 Accuracy:  78.85\n",
      "Loss:  1282.7541089602928 Accuracy:  77.39\n",
      "Loss:  1302.5251105308112 Accuracy:  78.67\n",
      "Loss:  1271.2297041905613 Accuracy:  77.58\n",
      "Loss:  1316.9861634470162 Accuracy:  79.13\n",
      "Loss:  1309.3270237567838 Accuracy:  79.41\n",
      "Loss:  1292.0759306811676 Accuracy:  78.61\n",
      "Loss:  1292.9916575129487 Accuracy:  79.19\n",
      "Loss:  1282.7431048677004 Accuracy:  79.19\n",
      "Loss:  1288.9241558830927 Accuracy:  78.98\n",
      "Loss:  1279.1730011026639 Accuracy:  79.85\n",
      "Loss:  1238.961488016666 Accuracy:  79.78\n",
      "Loss:  1234.5877134094944 Accuracy:  79.77\n",
      "Loss:  1263.877393931804 Accuracy:  79.85\n",
      "Loss:  1209.243531436766 Accuracy:  79.35\n",
      "Loss:  1256.9804499697925 Accuracy:  79.95\n",
      "Loss:  1251.0419679894972 Accuracy:  79.57\n",
      "Loss:  1247.6514367528312 Accuracy:  80.09\n",
      "Loss:  1256.1071428961673 Accuracy:  80.55\n",
      "Loss:  1249.2900069623151 Accuracy:  80.66\n",
      "Loss:  1243.9487094051533 Accuracy:  80.7\n",
      "Loss:  1230.957439899254 Accuracy:  80.14\n",
      "Loss:  1253.2061546841933 Accuracy:  80.67\n",
      "Loss:  1222.7030555551296 Accuracy:  80.91\n",
      "Loss:  1167.8778957966017 Accuracy:  80.37\n",
      "Loss:  1213.1843203730164 Accuracy:  80.49\n",
      "Loss:  1213.3130532293794 Accuracy:  81.21\n",
      "Loss:  1171.3729712317072 Accuracy:  81.26\n",
      "Loss:  1152.4272028678251 Accuracy:  80.79\n",
      "Loss:  1215.4958316936759 Accuracy:  81.41\n",
      "Loss:  1197.0002049553261 Accuracy:  81.49\n",
      "Loss:  1192.7576200015678 Accuracy:  81.45\n",
      "Loss:  1182.9765746786445 Accuracy:  81.27\n",
      "Loss:  1195.9812164841196 Accuracy:  81.47\n",
      "Loss:  1185.4034929429977 Accuracy:  81.8\n",
      "Loss:  1189.3063451435073 Accuracy:  81.99\n",
      "Loss:  1172.9934818261668 Accuracy:  81.78\n",
      "Loss:  1174.9158317462193 Accuracy:  81.96\n",
      "Loss:  1131.3923784141275 Accuracy:  82.1\n",
      "Loss:  1164.7924355360306 Accuracy:  81.61\n",
      "Loss:  1164.7599414563235 Accuracy:  82.07\n",
      "Loss:  1170.3701059942132 Accuracy:  82.41\n",
      "Loss:  1102.4973162372353 Accuracy:  81.97\n",
      "Loss:  1162.2097888163557 Accuracy:  82.05\n",
      "Loss:  1157.7864926269633 Accuracy:  82.09\n",
      "Loss:  1112.0960594183553 Accuracy:  81.67\n",
      "Loss:  1104.6844051518551 Accuracy:  82.4\n",
      "Loss:  1148.8336934689032 Accuracy:  82.24\n",
      "Loss:  1163.511408012321 Accuracy:  82.46\n",
      "Loss:  1139.8106419914504 Accuracy:  82.54\n",
      "Loss:  1144.1369365957041 Accuracy:  82.66\n",
      "Loss:  1122.3247710485134 Accuracy:  82.71\n",
      "Loss:  1088.294861521319 Accuracy:  82.79\n",
      "Loss:  1125.604466557231 Accuracy:  82.79\n",
      "Loss:  1077.3723693445231 Accuracy:  82.82\n",
      "Loss:  1112.34929556067 Accuracy:  82.88\n",
      "Loss:  1113.9952398149835 Accuracy:  83.03\n",
      "Loss:  1088.7899953343774 Accuracy:  83.17\n",
      "Loss:  1114.118413323988 Accuracy:  83.31\n",
      "Loss:  1071.8433825812513 Accuracy:  82.56\n",
      "Loss:  1106.1229342267193 Accuracy:  83.02\n",
      "Loss:  1091.7886390526091 Accuracy:  83.02\n",
      "Loss:  1097.4239153969718 Accuracy:  83.29\n",
      "Loss:  1060.435762926939 Accuracy:  82.72\n",
      "Loss:  1054.130098584629 Accuracy:  82.62\n",
      "Loss:  1081.0629871421431 Accuracy:  83.12\n",
      "Loss:  1047.3364903556617 Accuracy:  83.45\n",
      "Loss:  1086.3223181943765 Accuracy:  83.46\n",
      "Loss:  1093.1107730521435 Accuracy:  83.43\n",
      "Loss:  1077.9363698390603 Accuracy:  83.61\n",
      "Loss:  1103.4896453038325 Accuracy:  83.43\n",
      "Loss:  1084.2825676241318 Accuracy:  83.61\n",
      "Loss:  1076.8130527164494 Accuracy:  83.83\n",
      "Loss:  1066.3876342936212 Accuracy:  83.76\n",
      "Loss:  1070.5448763798863 Accuracy:  83.94\n",
      "Loss:  1090.6479113214807 Accuracy:  83.66\n",
      "Loss:  1016.3038689265297 Accuracy:  83.71\n",
      "Loss:  1012.3536883945185 Accuracy:  83.74\n",
      "Loss:  1049.1971417165537 Accuracy:  83.85\n",
      "Loss:  1080.1600203607659 Accuracy:  83.75\n"
     ]
    },
    {
     "name": "stdout",
     "output_type": "stream",
     "text": [
      "Loss:  1059.846595359378 Accuracy:  83.55\n",
      "Loss:  1023.2652336155606 Accuracy:  84.03\n",
      "Loss:  1006.2990261262623 Accuracy:  84.09\n",
      "Loss:  989.3675075287329 Accuracy:  83.65\n",
      "Loss:  1045.311405444801 Accuracy:  83.89\n",
      "Loss:  1004.1142873527236 Accuracy:  83.4\n",
      "Loss:  1027.95029502838 Accuracy:  83.91\n",
      "Loss:  1043.5895425979288 Accuracy:  83.66\n",
      "Loss:  987.3097381870095 Accuracy:  83.95\n",
      "Loss:  1028.2065877663065 Accuracy:  83.64\n",
      "Loss:  1028.1441825553975 Accuracy:  84.29\n",
      "Loss:  1018.8972160974192 Accuracy:  84.28\n",
      "Loss:  968.6774972368727 Accuracy:  83.9\n",
      "Loss:  1030.5216790921602 Accuracy:  83.97\n",
      "Loss:  1029.4300166444102 Accuracy:  84.37\n",
      "Loss:  1010.3635769303726 Accuracy:  84.51\n",
      "Loss:  1013.1495329661902 Accuracy:  84.52\n",
      "Loss:  985.3848149732999 Accuracy:  84.59\n",
      "Loss:  993.6149193796439 Accuracy:  84.35\n",
      "Loss:  989.5070462809997 Accuracy:  84.34\n",
      "Loss:  986.773943975383 Accuracy:  84.34\n",
      "Loss:  984.1400688136187 Accuracy:  84.33\n",
      "Loss:  997.1960600584605 Accuracy:  84.7\n",
      "Loss:  971.7978020555643 Accuracy:  84.71\n",
      "Loss:  1008.2090768338945 Accuracy:  84.25\n",
      "Loss:  999.4382053817257 Accuracy:  84.5\n",
      "Loss:  1005.6742990434657 Accuracy:  84.67\n",
      "Loss:  953.005498020843 Accuracy:  84.7\n",
      "Loss:  999.6103126940875 Accuracy:  84.85\n",
      "Loss:  987.710697289966 Accuracy:  84.36\n",
      "Loss:  989.6940833338846 Accuracy:  84.61\n",
      "Loss:  993.9745144188596 Accuracy:  84.88\n",
      "Loss:  979.7211454635411 Accuracy:  84.82\n",
      "Loss:  991.6562018847173 Accuracy:  84.63\n",
      "Loss:  976.8961338102379 Accuracy:  84.5\n",
      "Loss:  977.5240180750332 Accuracy:  84.91\n",
      "Loss:  936.312329154928 Accuracy:  84.91\n",
      "Loss:  966.497337913707 Accuracy:  84.98\n",
      "Loss:  975.9606611053082 Accuracy:  84.81\n",
      "Loss:  936.954283807084 Accuracy:  84.6\n",
      "Loss:  970.7993665463933 Accuracy:  84.72\n",
      "Loss:  926.8462135486849 Accuracy:  84.92\n",
      "Loss:  923.5735620298658 Accuracy:  84.92\n",
      "Loss:  934.0952379444287 Accuracy:  85.03\n",
      "Loss:  959.4970517176187 Accuracy:  85.1\n",
      "Loss:  951.8579194954881 Accuracy:  84.97\n",
      "Loss:  912.9337046992005 Accuracy:  84.97\n",
      "Loss:  901.4563083164198 Accuracy:  84.87\n",
      "Loss:  952.5742817757298 Accuracy:  85.19\n",
      "Loss:  912.5013485897143 Accuracy:  85.14\n",
      "Loss:  942.3405304952116 Accuracy:  84.96\n",
      "Loss:  959.4459116583614 Accuracy:  85.17\n",
      "Loss:  893.2456161286821 Accuracy:  85.01\n",
      "Loss:  948.7278365698545 Accuracy:  85.09\n",
      "Loss:  898.9986013287344 Accuracy:  85.14\n",
      "Loss:  953.0204640047617 Accuracy:  84.96\n",
      "Loss:  950.0085800854059 Accuracy:  84.95\n",
      "Loss:  973.3521873934047 Accuracy:  85.1\n",
      "Loss:  937.6440251948121 Accuracy:  85.39\n",
      "Loss:  947.1235920317795 Accuracy:  85.28\n",
      "Loss:  927.9314637719089 Accuracy:  85.39\n",
      "Loss:  946.8828446911793 Accuracy:  85.37\n",
      "Loss:  935.0527525275911 Accuracy:  85.26\n",
      "Loss:  928.7934188403265 Accuracy:  85.55\n",
      "Loss:  920.1598298803726 Accuracy:  85.4\n",
      "Loss:  920.2096726871582 Accuracy:  85.43\n",
      "Loss:  897.2798887232138 Accuracy:  85.47\n",
      "Loss:  885.4444405124707 Accuracy:  85.55\n",
      "Loss:  933.9330326661358 Accuracy:  85.58\n",
      "Loss:  918.9534540363007 Accuracy:  85.62\n",
      "Loss:  955.8160703775794 Accuracy:  85.4\n",
      "Loss:  910.7588255729545 Accuracy:  85.51\n",
      "Loss:  888.0993791127792 Accuracy:  85.55\n",
      "Loss:  928.4045466224641 Accuracy:  85.55\n",
      "Loss:  913.0570174260283 Accuracy:  85.6\n",
      "Loss:  915.9650562222399 Accuracy:  85.49\n",
      "Loss:  923.4232968526321 Accuracy:  85.58\n",
      "Loss:  921.40152384215 Accuracy:  85.41\n",
      "Loss:  943.6410903859496 Accuracy:  85.52\n",
      "Loss:  863.0993529042329 Accuracy:  85.57\n",
      "Loss:  916.6525262593226 Accuracy:  85.51\n",
      "Loss:  904.5351595742017 Accuracy:  85.72\n",
      "Loss:  858.5370896840818 Accuracy:  85.64\n",
      "Loss:  883.8391009904951 Accuracy:  85.47\n",
      "Loss:  913.834438126471 Accuracy:  85.68\n",
      "Loss:  902.4937560580714 Accuracy:  85.68\n",
      "Loss:  889.7018664655297 Accuracy:  85.71\n",
      "Loss:  842.9029206438126 Accuracy:  85.58\n",
      "Loss:  859.0477350040179 Accuracy:  85.83\n",
      "Loss:  930.6200311918092 Accuracy:  85.71\n",
      "Loss:  883.290280754487 Accuracy:  85.87\n",
      "Loss:  903.1885930169626 Accuracy:  85.81\n",
      "Loss:  880.0417449551892 Accuracy:  85.82\n",
      "Loss:  834.9673952624657 Accuracy:  85.7\n",
      "Loss:  887.6934713033613 Accuracy:  85.85\n",
      "Loss:  832.5915037456323 Accuracy:  85.77\n",
      "Loss:  890.6942590748022 Accuracy:  85.97\n",
      "Loss:  853.3114284055315 Accuracy:  85.89\n",
      "Loss:  864.4107287793345 Accuracy:  85.75\n",
      "Loss:  919.0046458862237 Accuracy:  85.85\n",
      "Loss:  843.6191370956518 Accuracy:  85.99\n",
      "Loss:  891.2874521901534 Accuracy:  86.02\n",
      "Loss:  824.0512754758348 Accuracy:  85.9\n",
      "Loss:  876.1228645967119 Accuracy:  85.95\n",
      "Loss:  865.3953933842367 Accuracy:  86.02\n",
      "Loss:  871.7903774351173 Accuracy:  86.02\n",
      "Loss:  866.9921741289984 Accuracy:  86.05\n",
      "Loss:  865.4821025041292 Accuracy:  86.12\n",
      "Loss:  875.357548963304 Accuracy:  86.06\n",
      "Loss:  872.7033087059336 Accuracy:  86.11\n",
      "Loss:  906.5104906002282 Accuracy:  86.03\n",
      "Loss:  830.862491635788 Accuracy:  86.08\n",
      "Loss:  878.7798995734821 Accuracy:  86.18\n",
      "Loss:  857.9447092077596 Accuracy:  86.26\n",
      "Loss:  868.0224689246168 Accuracy:  86.02\n",
      "Loss:  877.7547158393165 Accuracy:  86.13\n",
      "Loss:  833.289342239132 Accuracy:  86.14\n",
      "Loss:  874.8063579159274 Accuracy:  86.13\n",
      "Loss:  859.4247416695359 Accuracy:  86.25\n",
      "Loss:  861.4907914035438 Accuracy:  86.29\n",
      "Loss:  850.0388330598876 Accuracy:  86.22\n",
      "Loss:  855.3660706560075 Accuracy:  86.3\n",
      "Loss:  853.9905923006067 Accuracy:  86.23\n",
      "Loss:  857.9251138917955 Accuracy:  86.16\n",
      "Loss:  824.3571725936298 Accuracy:  86.2\n",
      "Loss:  810.7132770097958 Accuracy:  86.19\n",
      "Loss:  822.0882172039413 Accuracy:  86.2\n",
      "Loss:  849.4696651932386 Accuracy:  86.4\n",
      "Loss:  841.4074845114184 Accuracy:  86.35\n",
      "Loss:  842.1736435602327 Accuracy:  86.31\n",
      "Loss:  850.1113553810621 Accuracy:  86.38\n",
      "Loss:  859.249555477696 Accuracy:  86.38\n",
      "Loss:  857.2080159798247 Accuracy:  86.39\n",
      "Loss:  832.6983232974726 Accuracy:  86.36\n",
      "Loss:  824.9103344772425 Accuracy:  86.21\n",
      "Loss:  843.9982841580866 Accuracy:  86.27\n",
      "Loss:  841.1711052289489 Accuracy:  86.47\n",
      "Loss:  837.5820422910786 Accuracy:  86.47\n",
      "Loss:  835.9736180001811 Accuracy:  86.53\n",
      "Loss:  840.5819959798619 Accuracy:  86.5\n",
      "Loss:  839.7380304954476 Accuracy:  86.39\n",
      "Loss:  782.5993652565975 Accuracy:  86.35\n",
      "Loss:  780.4562657845752 Accuracy:  86.35\n",
      "Loss:  832.4620418883906 Accuracy:  86.36\n",
      "Loss:  803.4620723212656 Accuracy:  86.49\n",
      "Loss:  805.2159103577519 Accuracy:  86.39\n",
      "Loss:  871.507765487507 Accuracy:  86.45\n",
      "Loss:  823.5622956595346 Accuracy:  86.52\n",
      "Loss:  821.525586976675 Accuracy:  86.54\n",
      "Loss:  827.7432507991225 Accuracy:  86.61\n",
      "Loss:  793.6099557214626 Accuracy:  86.62\n",
      "Loss:  791.294844604711 Accuracy:  86.58\n",
      "Loss:  796.8093645831707 Accuracy:  86.56\n",
      "Loss:  838.854966206816 Accuracy:  86.49\n",
      "Loss:  827.3209409434317 Accuracy:  86.65\n",
      "Loss:  805.4695579537605 Accuracy:  86.52\n",
      "Loss:  835.5780326826134 Accuracy:  86.7\n",
      "Loss:  826.0720950764239 Accuracy:  86.54\n",
      "Loss:  832.4179098141719 Accuracy:  86.64\n",
      "Loss:  835.6690222597479 Accuracy:  86.64\n",
      "Loss:  788.214549325173 Accuracy:  86.61\n",
      "Loss:  831.0841176838028 Accuracy:  86.66\n",
      "Loss:  776.737335564788 Accuracy:  86.4\n",
      "Loss:  797.339201448303 Accuracy:  86.42\n",
      "Loss:  794.8328885283306 Accuracy:  86.48\n",
      "Loss:  856.3091005326793 Accuracy:  86.55\n",
      "Loss:  826.7982188406343 Accuracy:  86.69\n",
      "Loss:  816.3630648061367 Accuracy:  86.57\n",
      "Loss:  783.5904219105892 Accuracy:  86.71\n",
      "Loss:  757.2210188481401 Accuracy:  86.67\n",
      "Loss:  799.0416889036451 Accuracy:  86.74\n",
      "Loss:  808.8157911475155 Accuracy:  86.76\n",
      "Loss:  801.6782745757984 Accuracy:  86.77\n",
      "Loss:  809.2652920866446 Accuracy:  86.6\n",
      "Loss:  788.2588513326643 Accuracy:  86.61\n",
      "Loss:  806.5193813528729 Accuracy:  86.58\n",
      "Loss:  797.8004713845436 Accuracy:  86.74\n",
      "Loss:  798.7916386004565 Accuracy:  86.76\n",
      "Loss:  784.0350248867268 Accuracy:  86.66\n",
      "Loss:  818.848679761004 Accuracy:  86.77\n",
      "Loss:  795.5599795997548 Accuracy:  86.87\n",
      "Loss:  793.758493911924 Accuracy:  86.81\n",
      "Loss:  793.2067785412487 Accuracy:  86.86\n",
      "Loss:  797.9238473948265 Accuracy:  86.84\n",
      "Loss:  801.8887828648982 Accuracy:  86.84\n",
      "Loss:  794.5858197737941 Accuracy:  86.75\n",
      "Loss:  767.1547899186369 Accuracy:  86.88\n",
      "Loss:  769.9205143542274 Accuracy:  86.78\n",
      "Loss:  798.1863061323127 Accuracy:  86.89\n",
      "Loss:  808.3480578293763 Accuracy:  86.92\n",
      "Loss:  754.978643371044 Accuracy:  86.7\n",
      "Loss:  806.391734429179 Accuracy:  86.86\n",
      "Loss:  785.85942129511 Accuracy:  86.89\n",
      "Loss:  762.197380863711 Accuracy:  86.89\n",
      "Loss:  790.6345542250643 Accuracy:  86.96\n",
      "Loss:  738.5738171456653 Accuracy:  86.79\n"
     ]
    },
    {
     "name": "stdout",
     "output_type": "stream",
     "text": [
      "Loss:  802.7506805174887 Accuracy:  86.85\n",
      "Loss:  748.8019334651505 Accuracy:  86.74\n",
      "Loss:  789.3382345146044 Accuracy:  86.94\n",
      "Loss:  789.8154341945205 Accuracy:  86.83\n",
      "Loss:  800.3599934879594 Accuracy:  86.94\n",
      "Loss:  802.9247688163488 Accuracy:  86.99\n",
      "Loss:  798.2687366427792 Accuracy:  87.0\n",
      "Loss:  801.1950254434571 Accuracy:  86.98\n",
      "Loss:  752.1917182762893 Accuracy:  87.01\n",
      "Loss:  770.9304444727961 Accuracy:  87.03\n",
      "Loss:  774.6351548919275 Accuracy:  86.95\n",
      "Loss:  783.7227922696785 Accuracy:  86.93\n",
      "Loss:  754.1513654660253 Accuracy:  86.9\n",
      "Loss:  793.4511070001838 Accuracy:  86.98\n",
      "Loss:  749.5261381618186 Accuracy:  86.99\n",
      "Loss:  739.8639758214332 Accuracy:  86.81\n",
      "Loss:  783.5145267269448 Accuracy:  86.93\n",
      "Loss:  789.1593695049337 Accuracy:  87.03\n",
      "Loss:  746.2718956462934 Accuracy:  86.99\n",
      "Loss:  821.0619253909935 Accuracy:  86.96\n",
      "Loss:  769.4278862010509 Accuracy:  87.04\n",
      "Loss:  746.6902612748331 Accuracy:  86.98\n",
      "Loss:  785.9504862297326 Accuracy:  87.04\n",
      "Loss:  720.7495319140543 Accuracy:  86.99\n",
      "Loss:  786.3554656379404 Accuracy:  87.0\n",
      "Loss:  764.8815195828465 Accuracy:  87.06\n",
      "Loss:  771.9091855732868 Accuracy:  87.07\n",
      "Loss:  764.6982393601373 Accuracy:  87.06\n",
      "Loss:  769.4561655750887 Accuracy:  86.98\n",
      "Loss:  762.9306000714203 Accuracy:  87.07\n",
      "Loss:  716.2013916830678 Accuracy:  87.05\n",
      "Loss:  781.5402603149819 Accuracy:  86.99\n",
      "Loss:  778.7789980163777 Accuracy:  87.05\n",
      "Loss:  772.3013604234704 Accuracy:  87.07\n",
      "Loss:  762.9864276048902 Accuracy:  86.99\n",
      "Loss:  776.2844709216745 Accuracy:  87.04\n",
      "Loss:  810.4984696437245 Accuracy:  86.99\n",
      "Loss:  768.9365592450526 Accuracy:  87.01\n",
      "Loss:  751.2269185426962 Accuracy:  87.08\n",
      "Loss:  780.0419033603682 Accuracy:  87.09\n",
      "Loss:  734.4154506953996 Accuracy:  87.17\n",
      "Loss:  806.0138481537952 Accuracy:  87.13\n",
      "Loss:  772.5334772666382 Accuracy:  87.15\n",
      "Loss:  765.2321594252164 Accuracy:  87.09\n",
      "Loss:  756.4775704175364 Accuracy:  87.12\n",
      "Loss:  761.9427285909571 Accuracy:  87.06\n",
      "Loss:  762.0441101318106 Accuracy:  87.15\n",
      "Loss:  757.889373905711 Accuracy:  87.12\n",
      "Loss:  750.1514044632318 Accuracy:  87.2\n",
      "Loss:  719.6220957962166 Accuracy:  87.1\n",
      "Loss:  767.8751520713895 Accuracy:  87.17\n",
      "Loss:  769.1072620096531 Accuracy:  87.16\n",
      "Loss:  768.8938497817533 Accuracy:  87.22\n",
      "Loss:  765.8215852767833 Accuracy:  87.23\n",
      "Loss:  764.4399588743631 Accuracy:  87.21\n",
      "Loss:  758.558850584261 Accuracy:  87.2\n",
      "Loss:  745.9685197171564 Accuracy:  87.23\n",
      "Loss:  761.992520894904 Accuracy:  87.26\n",
      "Loss:  797.3399248440014 Accuracy:  87.17\n",
      "Loss:  722.3637256871781 Accuracy:  87.23\n",
      "Loss:  732.7728450920797 Accuracy:  87.21\n",
      "Loss:  794.6087512150868 Accuracy:  87.22\n",
      "Loss:  761.668984689326 Accuracy:  87.33\n",
      "Loss:  719.063138148221 Accuracy:  87.21\n",
      "Loss:  710.7983040148172 Accuracy:  87.16\n",
      "Loss:  759.2535202569975 Accuracy:  87.34\n",
      "Loss:  734.992298794763 Accuracy:  87.27\n",
      "Loss:  733.0979726085662 Accuracy:  87.32\n",
      "Loss:  790.447758988348 Accuracy:  87.29\n",
      "Loss:  749.5938674366257 Accuracy:  87.34\n",
      "Loss:  738.6113413763503 Accuracy:  87.34\n",
      "Loss:  730.5329773650415 Accuracy:  87.39\n",
      "Loss:  714.0214169963988 Accuracy:  87.36\n",
      "Loss:  692.699667542599 Accuracy:  87.36\n",
      "Loss:  728.576306691505 Accuracy:  87.37\n",
      "Loss:  735.2915092956961 Accuracy:  87.36\n",
      "Loss:  743.899379282017 Accuracy:  87.33\n",
      "Loss:  734.2007707587848 Accuracy:  87.37\n",
      "Loss:  741.0649510296558 Accuracy:  87.32\n",
      "Loss:  742.0208500102385 Accuracy:  87.3\n",
      "Loss:  732.4038617858223 Accuracy:  87.42\n",
      "Loss:  750.2278535500366 Accuracy:  87.39\n",
      "Loss:  708.2982553474012 Accuracy:  87.34\n",
      "Loss:  740.1992181606194 Accuracy:  87.35\n",
      "Loss:  748.7008500069037 Accuracy:  87.41\n",
      "Loss:  700.1125919261157 Accuracy:  87.29\n",
      "Loss:  780.8044971140149 Accuracy:  87.33\n",
      "Loss:  753.8753895831849 Accuracy:  87.41\n",
      "Loss:  747.2577694549179 Accuracy:  87.34\n",
      "Loss:  706.9059165496437 Accuracy:  87.35\n",
      "Loss:  730.5660913328131 Accuracy:  87.33\n",
      "Loss:  726.4989713549403 Accuracy:  87.38\n",
      "Loss:  735.1332446424273 Accuracy:  87.35\n",
      "Loss:  724.401452187683 Accuracy:  87.36\n",
      "Loss:  776.6570904666435 Accuracy:  87.42\n",
      "Loss:  679.9588526783647 Accuracy:  87.4\n",
      "Loss:  741.5041989723477 Accuracy:  87.49\n",
      "Loss:  724.6742976582728 Accuracy:  87.44\n",
      "Loss:  703.7526542182784 Accuracy:  87.44\n",
      "Loss:  747.3424799518452 Accuracy:  87.46\n",
      "Loss:  715.2096627295368 Accuracy:  87.5\n",
      "Loss:  713.6610293793956 Accuracy:  87.47\n",
      "Loss:  729.9771604906673 Accuracy:  87.46\n",
      "Loss:  698.2706290550939 Accuracy:  87.45\n",
      "Loss:  744.5881752129757 Accuracy:  87.41\n",
      "Loss:  718.3946164178275 Accuracy:  87.5\n",
      "Loss:  708.518456257781 Accuracy:  87.44\n",
      "Loss:  727.2931167344952 Accuracy:  87.42\n",
      "Loss:  735.9280546275401 Accuracy:  87.53\n",
      "Loss:  725.7049905621184 Accuracy:  87.39\n",
      "Loss:  769.4914212532426 Accuracy:  87.5\n",
      "Loss:  696.5656244036993 Accuracy:  87.5\n",
      "Loss:  687.7130164501792 Accuracy:  87.47\n",
      "Loss:  723.0217701662261 Accuracy:  87.46\n",
      "Loss:  767.0174780353029 Accuracy:  87.55\n",
      "Loss:  670.0632361342147 Accuracy:  87.54\n",
      "Loss:  724.5767000960418 Accuracy:  87.53\n",
      "Loss:  765.100405606515 Accuracy:  87.56\n",
      "Loss:  720.4723790928595 Accuracy:  87.54\n",
      "Loss:  714.4551285918672 Accuracy:  87.59\n",
      "Loss:  719.0553515969596 Accuracy:  87.61\n",
      "Loss:  763.145305179007 Accuracy:  87.65\n"
     ]
    }
   ],
   "source": [
    "mb_desc(WT,VT,X,y,learn_rate=1e-3,iterations=700,M=1,batch=B,y_batch=y_B)"
   ]
  },
  {
   "cell_type": "markdown",
   "metadata": {},
   "source": [
    "Let's take a moment to appreciate the efficiency here. Before, we needed over 2000 iterations of gradient descent with a learning rate of 1e-3 to get us to roughly 58% accuracy on test data. Here, 700 iterations of mini-batch descent took us all the way to over 85%! This is a massive improvement. Now let's see what $W^T$ is looking for in the first layer:"
   ]
  },
  {
   "cell_type": "code",
   "execution_count": 30,
   "metadata": {},
   "outputs": [
    {
     "data": {
      "image/png": "[encoded data removed]",
      "text/plain": [
       "<Figure size 2592x504 with 10 Axes>"
      ]
     },
     "metadata": {},
     "output_type": "display_data"
    }
   ],
   "source": [
    "show_nodes(WT,'Y')"
   ]
  },
  {
   "cell_type": "markdown",
   "metadata": {},
   "source": [
    "Out of 10 nodes in the first layer, 3 or 4 look untouched. The remainders are again fairly abstract. Let's do another set of 700 iterations and see how high we can get the accuracy:"
   ]
  },
  {
   "cell_type": "code",
   "execution_count": 31,
   "metadata": {},
   "outputs": [
    {
     "name": "stdout",
     "output_type": "stream",
     "text": [
      "Max Value of gradWT:  3.2494332921281908\n",
      "Max Value of gradVT:  7.319328289440942\n",
      "Starting Loss:  812.1196640767015 Starting Accuracy:  87.46 \n",
      "\n",
      "Loss:  776.9903859458103 Accuracy:  87.45\n",
      "Loss:  761.2593363230063 Accuracy:  87.81\n",
      "Loss:  742.6355689717833 Accuracy:  87.95\n",
      "Loss:  735.8207773808194 Accuracy:  88.07\n",
      "Loss:  730.1540319442444 Accuracy:  88.25\n",
      "Loss:  688.5319735942387 Accuracy:  88.23\n",
      "Loss:  702.1545171414506 Accuracy:  88.47\n",
      "Loss:  687.483733852233 Accuracy:  88.63\n",
      "Loss:  662.3063235057256 Accuracy:  88.82\n",
      "Loss:  653.5659170121797 Accuracy:  88.8\n",
      "Loss:  661.8934442427512 Accuracy:  89.02\n",
      "Loss:  619.4121144109268 Accuracy:  89.05\n",
      "Loss:  626.544356273751 Accuracy:  89.18\n",
      "Loss:  572.5166154977564 Accuracy:  89.29\n",
      "Loss:  598.747483588141 Accuracy:  89.38\n",
      "Loss:  602.6072739744652 Accuracy:  89.4\n",
      "Loss:  575.2856576242941 Accuracy:  89.49\n",
      "Loss:  627.4243978752546 Accuracy:  89.56\n",
      "Loss:  583.5716833869712 Accuracy:  89.69\n",
      "Loss:  600.677076528041 Accuracy:  89.63\n",
      "Loss:  568.5576380026728 Accuracy:  89.68\n",
      "Loss:  567.6232628247545 Accuracy:  89.74\n",
      "Loss:  579.992344136437 Accuracy:  89.75\n",
      "Loss:  512.1736635408402 Accuracy:  89.84\n",
      "Loss:  560.1421545785042 Accuracy:  89.83\n",
      "Loss:  540.5690294740759 Accuracy:  89.87\n",
      "Loss:  588.7192826389517 Accuracy:  90.04\n",
      "Loss:  559.901307315121 Accuracy:  89.96\n"
     ]
    }
   ],
   "source": [
    "mb_desc(WT,VT,X,y,learn_rate=1e-3,iterations=700,M=25,batch=B,y_batch=y_B)"
   ]
  },
  {
   "cell_type": "markdown",
   "metadata": {},
   "source": [
    "So we are pretty close to 90% accuracy which is pretty good. Let's check for any changes in the nodes of the first layer:"
   ]
  },
  {
   "cell_type": "code",
   "execution_count": 32,
   "metadata": {},
   "outputs": [
    {
     "data": {
      "image/png": "[encoded data removed]",
      "text/plain": [
       "<Figure size 2592x504 with 10 Axes>"
      ]
     },
     "metadata": {},
     "output_type": "display_data"
    }
   ],
   "source": [
    "show_nodes(WT,'Y')"
   ]
  },
  {
   "cell_type": "markdown",
   "metadata": {},
   "source": [
    "About the same. From here, I ran this one more time with a much larger iteration size, and the accuracy hovered around 90.75%. So for this particular initialized $W^T$ and $V^T$, the best we can do is roughly 91%. This is much more abstract than what we saw with the single-layer previously. Any improvement in accuracy after this is painfully slow, so I'll stop it here since 92% is pretty good!"
   ]
  },
  {
   "cell_type": "code",
   "execution_count": null,
   "metadata": {},
   "outputs": [],
   "source": []
  }
 ],
 "metadata": {
  "kernelspec": {
   "display_name": "Python 3 (ipykernel)",
   "language": "python",
   "name": "python3"
  },
  "language_info": {
   "codemirror_mode": {
    "name": "ipython",
    "version": 3
   },
   "file_extension": ".py",
   "mimetype": "text/x-python",
   "name": "python",
   "nbconvert_exporter": "python",
   "pygments_lexer": "ipython3",
   "version": "3.10.5"
  },
  "varInspector": {
   "cols": {
    "lenName": 16,
    "lenType": 16,
    "lenVar": 40
   },
   "kernels_config": {
    "python": {
     "delete_cmd_postfix": "",
     "delete_cmd_prefix": "del ",
     "library": "var_list.py",
     "varRefreshCmd": "print(var_dic_list())"
    },
    "r": {
     "delete_cmd_postfix": ") ",
     "delete_cmd_prefix": "rm(",
     "library": "var_list.r",
     "varRefreshCmd": "cat(var_dic_list()) "
    }
   },
   "types_to_exclude": [
    "module",
    "function",
    "builtin_function_or_method",
    "instance",
    "_Feature"
   ],
   "window_display": false
  }
 },
 "nbformat": 4,
 "nbformat_minor": 2
}
